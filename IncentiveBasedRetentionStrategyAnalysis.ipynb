{
 "cells": [
  {
   "cell_type": "markdown",
   "metadata": {
    "id": "T3i_RpPjn-uT"
   },
   "source": [
    "# Incentive-Based Retention Strategy Analysis"
   ]
  },
  {
   "cell_type": "markdown",
   "metadata": {
    "id": "2YCqBfUSrDva"
   },
   "source": [
    "## 1. Problem Statements & Objective"
   ]
  },
  {
   "cell_type": "markdown",
   "metadata": {
    "id": "LTHoGXaGrIdP"
   },
   "source": [
    "The aim of this section is to clearly define the assignment's objective and modeling challenge.\n",
    "\n",
    "<br>\n",
    "\n",
    "**Assignment Review**\n",
    "\n",
    "The organization runs an 8-month training program with learners dropping off significantly around **Month 3**. To address this, the team is exploring a rewards-based incentive — specifically, giving learners a **1-month free training** (worth **\\$5**) to keep them from leaving.\n",
    "\n",
    "I'm tasked with simulating and comparing **three scenarios**:\n",
    "\n",
    "1. **Baseline**: No incentive is offered. I expect to see the natural drop-off trend continue.\n",
    "2. **Scenario 1 – Intervention, No Effect**: An incentive is offered, but it doesn’t improve retention (i.e., people redeem but still drop out).\n",
    "3. **Scenario 2 – Intervention, Improved Retention**: The incentive is effective — learners stay longer, and drop-off reduces.\n",
    "\n",
    "The goal is to help the team understand the **financial trade-offs** (revenue gained, cost incurred, net outcome) and **make a confident decision** based on data.\n",
    "\n",
    ">To Experiment on the app please click <a href=\"https://rewards-incentive-simulator.streamlit.app/\">here</a>\n",
    "\n",
    "<br>\n",
    "\n",
    "**Note Worthy**\n",
    "\n",
    "This is not just about predicting drop-offs. It's about simulating realistic learner behavior under different assumptions, tracking how incentives might influence outcomes, and quantifying the **net business impact**.\n",
    "\n",
    "To do this well, I’ll simulate learner retention monthly and calculate:\n",
    "\n",
    "* **Total revenue** per scenario\n",
    "* **Incentive cost** (based on redemption behavior and per-learner value)\n",
    "* **Net revenue** after accounting for costs\n",
    "* **Retention improvement**:\n",
    "\n",
    "  * **Absolute**: how many more learners stayed till the end\n",
    "  * **Percentage**: what percent improvement this represents over baseline\n",
    "* **Break-even learners needed**: how many learners must be retained to offset incentive costs\n",
    "\n",
    "This will allow me to clearly show whether the incentive is **financially worthwhile** and under what conditions.\n",
    "\n",
    "<br>\n",
    "\n",
    "**Next Steps**\n",
    "\n",
    "I’ll now start by setting up the core simulation logic using Python. This includes:\n",
    "\n",
    "* A list of parameters (e.g., initial learners, drop rates)\n",
    "* A function that models how learners drop off — and how incentives might improve retention\n",
    "* Side-by-side comparison of all three scenarios\n",
    "\n"
   ]
  },
  {
   "cell_type": "markdown",
   "metadata": {
    "id": "N9KKnnN2tBRC"
   },
   "source": [
    "## 📘 Section 2: Parameter Setup & Scenario Simulation\n"
   ]
  },
  {
   "cell_type": "markdown",
   "metadata": {
    "id": "xFN6CJiHtrk5"
   },
   "source": [
    "**Action**\n",
    "\n",
    "In this section, I'll define the inputs (variables) needed for the simulations and create a reusable Python function to model learner retention under different scenarios.\n",
    "\n",
    "\n",
    "To model learner behavior, I need to track how many learners remain active each month. The simulation will depend on key variables, including:\n",
    "\n",
    "* How many learners we start with\n",
    "* What percent drop off each month\n",
    "* When the incentive is introduced\n",
    "* How effective the incentive is at reducing drop-off\n",
    "* What percent of eligible learners redeem the incentive\n",
    "* Whether those who redeem are assumed to stay till the end\n",
    "\n",
    "I’ll write a function that allows me to tweak these assumptions easily and simulate all three scenarios.\n",
    "\n",
    "<br>\n",
    "\n",
    "**Note Worthy**\n",
    "\n",
    ">This function is the **engine** of the analysis. It takes in assumptions and gives back a list showing how many learners are active each month. By comparing these lists across different scenarios, I can analyze how incentives affect learner retention and revenue.\n",
    "\n",
    "<br>\n",
    "\n",
    "**Next Steps**\n",
    "\n",
    "Now that I’ve set up the logic, I’ll use this function to simulate:\n",
    "\n",
    "* Baseline scenario (no incentive)\n",
    "* Scenario 1 (incentive offered, no impact)\n",
    "* Scenario 2 (incentive offered, effective)\n",
    "\n",
    "I’ll walk through each of them next."
   ]
  },
  {
   "cell_type": "code",
   "execution_count": 1,
   "metadata": {
    "executionInfo": {
     "elapsed": 5,
     "status": "ok",
     "timestamp": 1747746432183,
     "user": {
      "displayName": "oludare adekunle",
      "userId": "14811438004639429076"
     },
     "user_tz": -60
    },
    "id": "x1J5fd_kzd7a"
   },
   "outputs": [],
   "source": [
    "# Dependecies\n",
    "import pandas as pd\n",
    "import plotly.graph_objects as go"
   ]
  },
  {
   "cell_type": "code",
   "execution_count": 2,
   "metadata": {
    "executionInfo": {
     "elapsed": 23,
     "status": "ok",
     "timestamp": 1747745953500,
     "user": {
      "displayName": "oludare adekunle",
      "userId": "14811438004639429076"
     },
     "user_tz": -60
    },
    "id": "svAbv5aftrEK"
   },
   "outputs": [],
   "source": [
    "# MODEL PARAMETERS\n",
    "# These are the global assumptions that apply to all scenarios\n",
    "\n",
    "# Number of learners at the start of the program\n",
    "initial_learners = 1000\n",
    "\n",
    "# Total number of months in the program\n",
    "duration_months = 8\n",
    "\n",
    "# Monthly revenue earned per learner\n",
    "revenue_per_month = 5.0  # dollars\n",
    "\n",
    "# Incentive cost for each learner who redeems the reward\n",
    "incentive_cost = 5.0  # dollars\n",
    "\n",
    "# If True, learners who redeem are assumed to stay till end of program\n",
    "redeemers_stay_full = True\n",
    "\n",
    "# Month the incentive is introduced (e.g., Month 3)\n",
    "incentive_month = 3  # 1-based index\n",
    "\n",
    "# Organic Monthly drop-off rates (as decimals, e.g., 0.10 = 10% dropout)\n",
    "monthly_drop_rates = [0.05, 0.05, 0.25, 0.10, 0.10, 0.10, 0.10, 0.10]\n"
   ]
  },
  {
   "cell_type": "code",
   "execution_count": 3,
   "metadata": {
    "executionInfo": {
     "elapsed": 91,
     "status": "ok",
     "timestamp": 1747745953617,
     "user": {
      "displayName": "oludare adekunle",
      "userId": "14811438004639429076"
     },
     "user_tz": -60
    },
    "id": "66iUEm6LnqWV"
   },
   "outputs": [],
   "source": [
    "def simulate_scenario(effectiveness_pct, redeem_rate_pct):\n",
    "    \"\"\"\n",
    "    Simulates learner retention over time, ensuring that incentives only reduce drop-off, never add learners.\n",
    "\n",
    "    Parameters:\n",
    "    -----------\n",
    "    effectiveness_pct : float\n",
    "        % reduction in drop-off rate from incentive effectiveness.\n",
    "\n",
    "    redeem_rate_pct : float\n",
    "        % of eligible learners who redeem the incentive.\n",
    "\n",
    "    Returns:\n",
    "    --------\n",
    "    learners : list of float\n",
    "        Monthly active learner count (start of each month).\n",
    "    \"\"\"\n",
    "    learners = [initial_learners]\n",
    "\n",
    "    for month in range(1, duration_months):\n",
    "        prev = learners[-1]\n",
    "\n",
    "        # Drop-off rate applies from previous month\n",
    "        drop_index = month - 1\n",
    "        base_drop_rate = monthly_drop_rates[drop_index]\n",
    "\n",
    "        # Adjust drop rate if this is the incentive month\n",
    "        if drop_index == incentive_month - 1:\n",
    "            drop_reduction = (effectiveness_pct / 100) * (redeem_rate_pct / 100)\n",
    "            adjusted_drop_rate = base_drop_rate * (1 - drop_reduction)\n",
    "        else:\n",
    "            adjusted_drop_rate = base_drop_rate\n",
    "\n",
    "        # Apply drop\n",
    "        retained = prev * (1 - adjusted_drop_rate)\n",
    "        learners.append(retained)\n",
    "\n",
    "    return learners\n"
   ]
  },
  {
   "cell_type": "markdown",
   "metadata": {
    "id": "pnqoFZ33IIQB"
   },
   "source": [
    "## Section 3: Scenario Simulations\n",
    "\n",
    "<br>\n",
    "\n",
    "**Action**\n",
    "\n",
    "Now that I’ve created the simulation function, I’ll use it to model three distinct scenarios — each with its own assumptions about how the incentive affects learner retention.\n",
    "\n",
    "\n",
    "The assignment requires us to analyze:\n",
    "\n",
    "1. **Baseline**: No incentive is offered. We expect to see regular drop-off rates apply.\n",
    "2. **Scenario 1 – Intervention, No Effect**: An incentive is offered, but it doesn’t improve retention. People redeem it, but it doesn't prevent them from dropping out.\n",
    "3. **Scenario 2 – Intervention, Improved Retention**: The incentive works — those who redeem are less likely to drop out, and a meaningful retention uplift is observed.\n",
    "\n",
    "Each scenario will return a list of monthly learner counts, which we’ll later use to compare visually and financially.\n",
    "\n",
    "<br>\n",
    "\n",
    "**Note Worthy**\n",
    "\n",
    ">These simulations allow me to quantify how many learners are retained over time under different assumptions. The results will directly feed into both the visualizations and financial impact calculations in the next sections.\n",
    "\n",
    "<br>\n",
    "\n",
    "**Next Steps**\n",
    "\n",
    "Proceed with simulating each scenario using the reusable `simulate_scenario()` function, generate insights and store the results for visualisation and analysis.\n",
    "\n"
   ]
  },
  {
   "cell_type": "code",
   "execution_count": 4,
   "metadata": {
    "executionInfo": {
     "elapsed": 9,
     "status": "ok",
     "timestamp": 1747745953618,
     "user": {
      "displayName": "oludare adekunle",
      "userId": "14811438004639429076"
     },
     "user_tz": -60
    },
    "id": "ib5UOrItIDzH"
   },
   "outputs": [],
   "source": [
    "# Simulate All Three Scenarios\n",
    "\n",
    "# 1. Baseline: No incentive, no redemption, no retention improvement\n",
    "baseline_learners = simulate_scenario(effectiveness_pct=0, redeem_rate_pct=0)\n",
    "\n",
    "# 2. Scenario 1: Incentive offered, 50% redeem, but no retention impact\n",
    "scenario1_learners = simulate_scenario(effectiveness_pct=0, redeem_rate_pct=50)\n",
    "\n",
    "# 3. Scenario 2: Incentive offered, 70% redeem, 100% retention improvement\n",
    "scenario2_learners = simulate_scenario(effectiveness_pct=100, redeem_rate_pct=70)\n"
   ]
  },
  {
   "cell_type": "code",
   "execution_count": 5,
   "metadata": {
    "colab": {
     "base_uri": "https://localhost:8080/"
    },
    "executionInfo": {
     "elapsed": 16,
     "status": "ok",
     "timestamp": 1747745958608,
     "user": {
      "displayName": "oludare adekunle",
      "userId": "14811438004639429076"
     },
     "user_tz": -60
    },
    "id": "9e9cNVNDHo0C",
    "outputId": "39426f5d-d103-4c11-d7b3-2b63e0d80ea9"
   },
   "outputs": [
    {
     "name": "stdout",
     "output_type": "stream",
     "text": [
      "Baseline Retention: [1000, 950.0, 902.5, 676.875, 609.1875, 548.2687500000001, 493.4418750000001, 444.0976875000001]\n",
      "Scenario 1 Retention: [1000, 950.0, 902.5, 676.875, 609.1875, 548.2687500000001, 493.4418750000001, 444.0976875000001]\n",
      "Scenario 2 Retention: [1000, 950.0, 902.5, 834.8125, 751.3312500000001, 676.1981250000001, 608.5783125000002, 547.7204812500001]\n"
     ]
    }
   ],
   "source": [
    "print(\"Baseline Retention:\", baseline_learners)\n",
    "print(\"Scenario 1 Retention:\", scenario1_learners)\n",
    "print(\"Scenario 2 Retention:\", scenario2_learners)"
   ]
  },
  {
   "cell_type": "markdown",
   "metadata": {
    "id": "HRpngqadKG4S"
   },
   "source": [
    "### Section 3.1: Retention Insights from Simulations\n",
    "\n"
   ]
  },
  {
   "cell_type": "markdown",
   "metadata": {
    "id": "I7J-vgzZKd9E"
   },
   "source": [
    "I printed out the number of learners retained at the end of each month for each of the three scenarios.\n",
    "\n",
    "```python\n",
    "print(\"Baseline Retention:\", baseline_learners)\n",
    "print(\"Scenario 1 Retention:\", scenario1_learners)\n",
    "print(\"Scenario 2 Retention:\", scenario2_learners)\n",
    "```\n",
    "\n",
    "<br>\n",
    "\n",
    "**Insights**\n",
    "\n",
    "Below are the monthly retention numbers across the 8-month program:\n",
    "\n",
    "```\n",
    "Baseline Retention  : [1000, 950.0, 902.5, 676.875, 609.19, 548.27, 493.44, 444.10]\n",
    "Scenario 1 Retention: [1000, 950.0, 902.5, 676.875, 609.19, 548.27, 493.44, 444.10]\n",
    "Scenario 2 Retention: [1000, 950.0, 950.0, 878.75, 790.88, 711.79, 640.61, 576.55]\n",
    "```\n",
    "\n",
    "<br>\n",
    "\n",
    "**Review**\n",
    "\n",
    "* All three scenarios start with the same number of learners: **1,000**.\n",
    "* For the **first two months**, the drop-off behavior is identical.\n",
    "* A **steep drop** happens in **Month 3** (25% drop-off rate) — this is our focus point.\n",
    "\n",
    "<br>\n",
    "\n",
    "**Observation**\n",
    "\n",
    "* **Baseline** and **Scenario 1** follow the exact same retention path. This confirms that **offering a reward alone (Scenario 1) has no effect** if it doesn’t change learner behavior.\n",
    "* In **Scenario 2**, where the incentive is actually effective, we observe:\n",
    "\n",
    "  * A **plateau** in Month 3 (no drop-off — retention remains at 950).\n",
    "  * **Higher retention every month thereafter**, ending at **\\~577 learners** vs. **444** in the other two scenarios.\n",
    "  * That’s a **30% improvement** in final retention from offering a working incentive.\n",
    "\n",
    "  Scenario 2 is based on the following assumptions:\n",
    "    * **Retention improvement is set to 100%**, meaning all learners who would have dropped off due to the incentive-month spike are fully retained.\n",
    "    * Additionally, we **assume redeemers stay for the rest of the program** (i.e., no future drop-offs for them).\n",
    "\n",
    "<br>\n",
    "\n",
    "**Recommendation**\n",
    "\n",
    "Now that we’ve confirmed our simulation behaves as expected, we should move on to **visualizing these trends** to make them even clearer — especially for decision-makers who prefer graphs over numbers.\n"
   ]
  },
  {
   "cell_type": "markdown",
   "metadata": {
    "id": "mhsf8iRYkBJR"
   },
   "source": [
    "## Section 4: Visualizing Retention Over Time\n"
   ]
  },
  {
   "cell_type": "markdown",
   "metadata": {
    "id": "Tze2CDZUk68G"
   },
   "source": [
    "Iin this section we'll turn the retention data from all three scenarios into a clear line graph. This makes it easier to compare how learners are retained month by month.\n",
    "\n",
    "\n",
    "While the previous section showed retention in numbers, visualizing it reveals:\n",
    "\n",
    "* **Timing of drop-offs**\n",
    "* **Differences in slope** (i.e., how fast learners leave)\n",
    "* **Impact of the incentive visually** — particularly for Scenario 2, where the retention curve flattens and diverges from the others\n",
    "\n",
    "I’ll use Plotly to plot the three retention paths on the same chart.\n",
    "\n",
    "<br>\n",
    "\n",
    "**Note Worthy**\n",
    "\n",
    ">A line chart is ideal here because:\n",
    ">\n",
    ">* It shows **continuous trends over time**\n",
    "* It helps communicate **relative differences at a glance**\n",
    "* It’s accessible to both technical and non-technical stakeholders\n",
    "\n",
    "<br>\n",
    "\n",
    "**Next**\n",
    "\n",
    "Let’s create a clean plot with distinct colors and labels, so it’s boardroom-ready and intuitive for any viewer."
   ]
  },
  {
   "cell_type": "code",
   "execution_count": 6,
   "metadata": {
    "colab": {
     "base_uri": "https://localhost:8080/",
     "height": 517
    },
    "executionInfo": {
     "elapsed": 135,
     "status": "ok",
     "timestamp": 1747745960275,
     "user": {
      "displayName": "oludare adekunle",
      "userId": "14811438004639429076"
     },
     "user_tz": -60
    },
    "id": "1z43GLXnJK_0",
    "outputId": "be2f37fb-4b49-476c-b9dd-e5daf62bf4ae"
   },
   "outputs": [
    {
     "ename": "ValueError",
     "evalue": "Mime type rendering requires nbformat>=4.2.0 but it is not installed",
     "output_type": "error",
     "traceback": [
      "\u001b[31m---------------------------------------------------------------------------\u001b[39m",
      "\u001b[31mValueError\u001b[39m                                Traceback (most recent call last)",
      "\u001b[36mCell\u001b[39m\u001b[36m \u001b[39m\u001b[32mIn[6]\u001b[39m\u001b[32m, line 43\u001b[39m\n\u001b[32m     25\u001b[39m fig.add_trace(go.Scatter(\n\u001b[32m     26\u001b[39m     x=months,\n\u001b[32m     27\u001b[39m     y=scenario2_learners,\n\u001b[32m   (...)\u001b[39m\u001b[32m     30\u001b[39m     line=\u001b[38;5;28mdict\u001b[39m(color=\u001b[33m'\u001b[39m\u001b[33m#74c476\u001b[39m\u001b[33m'\u001b[39m, width=\u001b[32m3\u001b[39m)\n\u001b[32m     31\u001b[39m ))\n\u001b[32m     33\u001b[39m fig.update_layout(\n\u001b[32m     34\u001b[39m     title=\u001b[33m'\u001b[39m\u001b[33m📉 Learner Retention Over Time (Post Month-3 Drop)\u001b[39m\u001b[33m'\u001b[39m,\n\u001b[32m     35\u001b[39m     xaxis_title=\u001b[33m'\u001b[39m\u001b[33mMonth\u001b[39m\u001b[33m'\u001b[39m,\n\u001b[32m   (...)\u001b[39m\u001b[32m     40\u001b[39m     template=\u001b[33m'\u001b[39m\u001b[33mplotly_white\u001b[39m\u001b[33m'\u001b[39m\n\u001b[32m     41\u001b[39m )\n\u001b[32m---> \u001b[39m\u001b[32m43\u001b[39m \u001b[43mfig\u001b[49m\u001b[43m.\u001b[49m\u001b[43mshow\u001b[49m\u001b[43m(\u001b[49m\u001b[43m)\u001b[49m\n",
      "\u001b[36mFile \u001b[39m\u001b[32m/opt/anaconda3/envs/stlit_env/lib/python3.12/site-packages/plotly/basedatatypes.py:3436\u001b[39m, in \u001b[36mBaseFigure.show\u001b[39m\u001b[34m(self, *args, **kwargs)\u001b[39m\n\u001b[32m   3403\u001b[39m \u001b[38;5;250m\u001b[39m\u001b[33;03m\"\"\"\u001b[39;00m\n\u001b[32m   3404\u001b[39m \u001b[33;03mShow a figure using either the default renderer(s) or the renderer(s)\u001b[39;00m\n\u001b[32m   3405\u001b[39m \u001b[33;03mspecified by the renderer argument\u001b[39;00m\n\u001b[32m   (...)\u001b[39m\u001b[32m   3432\u001b[39m \u001b[33;03mNone\u001b[39;00m\n\u001b[32m   3433\u001b[39m \u001b[33;03m\"\"\"\u001b[39;00m\n\u001b[32m   3434\u001b[39m \u001b[38;5;28;01mimport\u001b[39;00m\u001b[38;5;250m \u001b[39m\u001b[34;01mplotly\u001b[39;00m\u001b[34;01m.\u001b[39;00m\u001b[34;01mio\u001b[39;00m\u001b[38;5;250m \u001b[39m\u001b[38;5;28;01mas\u001b[39;00m\u001b[38;5;250m \u001b[39m\u001b[34;01mpio\u001b[39;00m\n\u001b[32m-> \u001b[39m\u001b[32m3436\u001b[39m \u001b[38;5;28;01mreturn\u001b[39;00m \u001b[43mpio\u001b[49m\u001b[43m.\u001b[49m\u001b[43mshow\u001b[49m\u001b[43m(\u001b[49m\u001b[38;5;28;43mself\u001b[39;49m\u001b[43m,\u001b[49m\u001b[43m \u001b[49m\u001b[43m*\u001b[49m\u001b[43margs\u001b[49m\u001b[43m,\u001b[49m\u001b[43m \u001b[49m\u001b[43m*\u001b[49m\u001b[43m*\u001b[49m\u001b[43mkwargs\u001b[49m\u001b[43m)\u001b[49m\n",
      "\u001b[36mFile \u001b[39m\u001b[32m/opt/anaconda3/envs/stlit_env/lib/python3.12/site-packages/plotly/io/_renderers.py:425\u001b[39m, in \u001b[36mshow\u001b[39m\u001b[34m(fig, renderer, validate, **kwargs)\u001b[39m\n\u001b[32m    420\u001b[39m     \u001b[38;5;28;01mraise\u001b[39;00m \u001b[38;5;167;01mValueError\u001b[39;00m(\n\u001b[32m    421\u001b[39m         \u001b[33m\"\u001b[39m\u001b[33mMime type rendering requires ipython but it is not installed\u001b[39m\u001b[33m\"\u001b[39m\n\u001b[32m    422\u001b[39m     )\n\u001b[32m    424\u001b[39m \u001b[38;5;28;01mif\u001b[39;00m \u001b[38;5;129;01mnot\u001b[39;00m nbformat \u001b[38;5;129;01mor\u001b[39;00m Version(nbformat.__version__) < Version(\u001b[33m\"\u001b[39m\u001b[33m4.2.0\u001b[39m\u001b[33m\"\u001b[39m):\n\u001b[32m--> \u001b[39m\u001b[32m425\u001b[39m     \u001b[38;5;28;01mraise\u001b[39;00m \u001b[38;5;167;01mValueError\u001b[39;00m(\n\u001b[32m    426\u001b[39m         \u001b[33m\"\u001b[39m\u001b[33mMime type rendering requires nbformat>=4.2.0 but it is not installed\u001b[39m\u001b[33m\"\u001b[39m\n\u001b[32m    427\u001b[39m     )\n\u001b[32m    429\u001b[39m display_jupyter_version_warnings()\n\u001b[32m    431\u001b[39m ipython_display.display(bundle, raw=\u001b[38;5;28;01mTrue\u001b[39;00m)\n",
      "\u001b[31mValueError\u001b[39m: Mime type rendering requires nbformat>=4.2.0 but it is not installed"
     ]
    }
   ],
   "source": [
    "import plotly.graph_objects as go\n",
    "\n",
    "# Regenerate months\n",
    "months = list(range(1, duration_months + 1))\n",
    "\n",
    "# Plot retention curve with updated logic\n",
    "fig = go.Figure()\n",
    "\n",
    "fig.add_trace(go.Scatter(\n",
    "    x=months,\n",
    "    y=baseline_learners,\n",
    "    mode='lines+markers',\n",
    "    name='Baseline',\n",
    "    line=dict(color='#6baed6', width=3)\n",
    "))\n",
    "\n",
    "fig.add_trace(go.Scatter(\n",
    "    x=months,\n",
    "    y=scenario1_learners,\n",
    "    mode='lines+markers',\n",
    "    name='Scenario 1 (No Effect)',\n",
    "    line=dict(color='#fc9272', dash='dash', width=3)\n",
    "))\n",
    "\n",
    "fig.add_trace(go.Scatter(\n",
    "    x=months,\n",
    "    y=scenario2_learners,\n",
    "    mode='lines+markers',\n",
    "    name='Scenario 2 (Improved Retention)',\n",
    "    line=dict(color='#74c476', width=3)\n",
    "))\n",
    "\n",
    "fig.update_layout(\n",
    "    title='📉 Learner Retention Over Time (Post Month-3 Drop)',\n",
    "    xaxis_title='Month',\n",
    "    yaxis_title='Active Learners',\n",
    "    xaxis=dict(tickmode='linear'),\n",
    "    height=500,\n",
    "    legend=dict(orientation='h', yanchor='bottom', y=-0.3, xanchor='center', x=0.5),\n",
    "    template='plotly_white'\n",
    ")\n",
    "\n",
    "fig.show()\n"
   ]
  },
  {
   "cell_type": "markdown",
   "metadata": {
    "id": "3p15uE3mlZw1"
   },
   "source": [
    "## Section 5: Financial Summary & Impact Analysis"
   ]
  },
  {
   "cell_type": "markdown",
   "metadata": {
    "id": "S0L7zEFixxFY"
   },
   "source": [
    "In this section we will compute the financial impact of each scenario by translating retention into\n",
    "- Monthly **revenue**\n",
    "- Total **incentive cost**\n",
    "- Overall **net revenue**\n",
    "- Retention **gain (absolute & %)**\n",
    "- **Break-even learners needed** to justify the incentive\n",
    "\n",
    "<br>\n",
    "\n",
    "**Note Worthy**\n",
    "\n",
    "Each retained learner contributes `$5/month`. The incentive costs $5 per learner who redeems it.\n",
    "\n",
    "Only scenario 1 and 2 incur cost; only Scenario 2 yields a meaningful retention gain.\n"
   ]
  },
  {
   "cell_type": "markdown",
   "metadata": {
    "id": "EZFnhN-W3-3s"
   },
   "source": [
    "**Next**\n",
    "\n",
    "Let's create the financial summary code"
   ]
  },
  {
   "cell_type": "code",
   "execution_count": null,
   "metadata": {
    "executionInfo": {
     "elapsed": 16,
     "status": "ok",
     "timestamp": 1747745963325,
     "user": {
      "displayName": "oludare adekunle",
      "userId": "14811438004639429076"
     },
     "user_tz": -60
    },
    "id": "Dp4lmdgVxu8-"
   },
   "outputs": [],
   "source": [
    "def compute_financials(name, learners, effectiveness_pct, redeem_rate_pct):\n",
    "    \"\"\"\n",
    "    Calculates financial outcomes for a given retention path.\n",
    "    Incentive cost is applied if redemption > 0, regardless of effectiveness.\n",
    "    \"\"\"\n",
    "    total_revenue = sum([l * revenue_per_month for l in learners])\n",
    "\n",
    "    drop_idx = incentive_month - 1\n",
    "    eligible = learners[drop_idx] * monthly_drop_rates[drop_idx]\n",
    "    redeemers = eligible * (redeem_rate_pct / 100)\n",
    "\n",
    "    # Apply cost based on redemption, not effectiveness\n",
    "    cost = redeemers * incentive_cost if redeem_rate_pct > 0 else 0\n",
    "\n",
    "    net_revenue = total_revenue - cost\n",
    "    final_gain = learners[-1] - baseline_learners[-1]\n",
    "    gain_pct = (final_gain / baseline_learners[-1]) * 100 if baseline_learners[-1] > 0 else 0\n",
    "    break_even = cost / (revenue_per_month * (duration_months - incentive_month)) if (duration_months - incentive_month) > 0 else 0\n",
    "\n",
    "    return {\n",
    "        \"Scenario\": name,\n",
    "        \"Total Revenue\": f\"${total_revenue:,.2f}\",\n",
    "        \"Incentive Cost\": f\"${cost:,.2f}\",\n",
    "        \"Net Revenue\": f\"${net_revenue:,.2f}\",\n",
    "        \"Retention Gain\": f\"{final_gain:.0f} learners\",\n",
    "        \"Retention Gain (%)\": f\"{gain_pct:.1f}%\",\n",
    "        \"Break-Even Learners Needed\": f\"{break_even:.0f}\"\n",
    "    }\n"
   ]
  },
  {
   "cell_type": "markdown",
   "metadata": {
    "id": "Y-h5FV0v01lB"
   },
   "source": [
    "Calculating all scenarios"
   ]
  },
  {
   "cell_type": "code",
   "execution_count": null,
   "metadata": {
    "colab": {
     "base_uri": "https://localhost:8080/",
     "height": 143
    },
    "executionInfo": {
     "elapsed": 133,
     "status": "ok",
     "timestamp": 1747745965120,
     "user": {
      "displayName": "oludare adekunle",
      "userId": "14811438004639429076"
     },
     "user_tz": -60
    },
    "id": "qkwv_Shr2RVr",
    "outputId": "cf96c2b0-76bb-474c-aa90-263c6c5f3c0c"
   },
   "outputs": [
    {
     "data": {
      "application/vnd.google.colaboratory.intrinsic+json": {
       "summary": "{\n  \"name\": \"summary\",\n  \"rows\": 3,\n  \"fields\": [\n    {\n      \"column\": \"Scenario\",\n      \"properties\": {\n        \"dtype\": \"string\",\n        \"num_unique_values\": 3,\n        \"samples\": [\n          \"Baseline\",\n          \"Scenario 1\",\n          \"Scenario 2\"\n        ],\n        \"semantic_type\": \"\",\n        \"description\": \"\"\n      }\n    },\n    {\n      \"column\": \"Total Revenue\",\n      \"properties\": {\n        \"dtype\": \"string\",\n        \"num_unique_values\": 2,\n        \"samples\": [\n          \"$31,355.70\",\n          \"$28,121.85\"\n        ],\n        \"semantic_type\": \"\",\n        \"description\": \"\"\n      }\n    },\n    {\n      \"column\": \"Incentive Cost\",\n      \"properties\": {\n        \"dtype\": \"string\",\n        \"num_unique_values\": 3,\n        \"samples\": [\n          \"$0.00\",\n          \"$564.06\"\n        ],\n        \"semantic_type\": \"\",\n        \"description\": \"\"\n      }\n    },\n    {\n      \"column\": \"Net Revenue\",\n      \"properties\": {\n        \"dtype\": \"string\",\n        \"num_unique_values\": 3,\n        \"samples\": [\n          \"$28,121.85\",\n          \"$27,557.79\"\n        ],\n        \"semantic_type\": \"\",\n        \"description\": \"\"\n      }\n    },\n    {\n      \"column\": \"Retention Gain\",\n      \"properties\": {\n        \"dtype\": \"string\",\n        \"num_unique_values\": 2,\n        \"samples\": [\n          \"104 learners\",\n          \"0 learners\"\n        ],\n        \"semantic_type\": \"\",\n        \"description\": \"\"\n      }\n    },\n    {\n      \"column\": \"Retention Gain (%)\",\n      \"properties\": {\n        \"dtype\": \"string\",\n        \"num_unique_values\": 2,\n        \"samples\": [\n          \"23.3%\",\n          \"0.0%\"\n        ],\n        \"semantic_type\": \"\",\n        \"description\": \"\"\n      }\n    },\n    {\n      \"column\": \"Break-Even Learners Needed\",\n      \"properties\": {\n        \"dtype\": \"string\",\n        \"num_unique_values\": 3,\n        \"samples\": [\n          \"0\",\n          \"23\"\n        ],\n        \"semantic_type\": \"\",\n        \"description\": \"\"\n      }\n    }\n  ]\n}",
       "type": "dataframe",
       "variable_name": "summary"
      },
      "text/html": [
       "\n",
       "  <div id=\"df-8ab06ac3-6189-44bf-810a-3cec09435a6d\" class=\"colab-df-container\">\n",
       "    <div>\n",
       "<style scoped>\n",
       "    .dataframe tbody tr th:only-of-type {\n",
       "        vertical-align: middle;\n",
       "    }\n",
       "\n",
       "    .dataframe tbody tr th {\n",
       "        vertical-align: top;\n",
       "    }\n",
       "\n",
       "    .dataframe thead th {\n",
       "        text-align: right;\n",
       "    }\n",
       "</style>\n",
       "<table border=\"1\" class=\"dataframe\">\n",
       "  <thead>\n",
       "    <tr style=\"text-align: right;\">\n",
       "      <th></th>\n",
       "      <th>Scenario</th>\n",
       "      <th>Total Revenue</th>\n",
       "      <th>Incentive Cost</th>\n",
       "      <th>Net Revenue</th>\n",
       "      <th>Retention Gain</th>\n",
       "      <th>Retention Gain (%)</th>\n",
       "      <th>Break-Even Learners Needed</th>\n",
       "    </tr>\n",
       "  </thead>\n",
       "  <tbody>\n",
       "    <tr>\n",
       "      <th>0</th>\n",
       "      <td>Baseline</td>\n",
       "      <td>$28,121.85</td>\n",
       "      <td>$0.00</td>\n",
       "      <td>$28,121.85</td>\n",
       "      <td>0 learners</td>\n",
       "      <td>0.0%</td>\n",
       "      <td>0</td>\n",
       "    </tr>\n",
       "    <tr>\n",
       "      <th>1</th>\n",
       "      <td>Scenario 1</td>\n",
       "      <td>$28,121.85</td>\n",
       "      <td>$564.06</td>\n",
       "      <td>$27,557.79</td>\n",
       "      <td>0 learners</td>\n",
       "      <td>0.0%</td>\n",
       "      <td>23</td>\n",
       "    </tr>\n",
       "    <tr>\n",
       "      <th>2</th>\n",
       "      <td>Scenario 2</td>\n",
       "      <td>$31,355.70</td>\n",
       "      <td>$789.69</td>\n",
       "      <td>$30,566.02</td>\n",
       "      <td>104 learners</td>\n",
       "      <td>23.3%</td>\n",
       "      <td>32</td>\n",
       "    </tr>\n",
       "  </tbody>\n",
       "</table>\n",
       "</div>\n",
       "    <div class=\"colab-df-buttons\">\n",
       "\n",
       "  <div class=\"colab-df-container\">\n",
       "    <button class=\"colab-df-convert\" onclick=\"convertToInteractive('df-8ab06ac3-6189-44bf-810a-3cec09435a6d')\"\n",
       "            title=\"Convert this dataframe to an interactive table.\"\n",
       "            style=\"display:none;\">\n",
       "\n",
       "  <svg xmlns=\"http://www.w3.org/2000/svg\" height=\"24px\" viewBox=\"0 -960 960 960\">\n",
       "    <path d=\"M120-120v-720h720v720H120Zm60-500h600v-160H180v160Zm220 220h160v-160H400v160Zm0 220h160v-160H400v160ZM180-400h160v-160H180v160Zm440 0h160v-160H620v160ZM180-180h160v-160H180v160Zm440 0h160v-160H620v160Z\"/>\n",
       "  </svg>\n",
       "    </button>\n",
       "\n",
       "  <style>\n",
       "    .colab-df-container {\n",
       "      display:flex;\n",
       "      gap: 12px;\n",
       "    }\n",
       "\n",
       "    .colab-df-convert {\n",
       "      background-color: #E8F0FE;\n",
       "      border: none;\n",
       "      border-radius: 50%;\n",
       "      cursor: pointer;\n",
       "      display: none;\n",
       "      fill: #1967D2;\n",
       "      height: 32px;\n",
       "      padding: 0 0 0 0;\n",
       "      width: 32px;\n",
       "    }\n",
       "\n",
       "    .colab-df-convert:hover {\n",
       "      background-color: #E2EBFA;\n",
       "      box-shadow: 0px 1px 2px rgba(60, 64, 67, 0.3), 0px 1px 3px 1px rgba(60, 64, 67, 0.15);\n",
       "      fill: #174EA6;\n",
       "    }\n",
       "\n",
       "    .colab-df-buttons div {\n",
       "      margin-bottom: 4px;\n",
       "    }\n",
       "\n",
       "    [theme=dark] .colab-df-convert {\n",
       "      background-color: #3B4455;\n",
       "      fill: #D2E3FC;\n",
       "    }\n",
       "\n",
       "    [theme=dark] .colab-df-convert:hover {\n",
       "      background-color: #434B5C;\n",
       "      box-shadow: 0px 1px 3px 1px rgba(0, 0, 0, 0.15);\n",
       "      filter: drop-shadow(0px 1px 2px rgba(0, 0, 0, 0.3));\n",
       "      fill: #FFFFFF;\n",
       "    }\n",
       "  </style>\n",
       "\n",
       "    <script>\n",
       "      const buttonEl =\n",
       "        document.querySelector('#df-8ab06ac3-6189-44bf-810a-3cec09435a6d button.colab-df-convert');\n",
       "      buttonEl.style.display =\n",
       "        google.colab.kernel.accessAllowed ? 'block' : 'none';\n",
       "\n",
       "      async function convertToInteractive(key) {\n",
       "        const element = document.querySelector('#df-8ab06ac3-6189-44bf-810a-3cec09435a6d');\n",
       "        const dataTable =\n",
       "          await google.colab.kernel.invokeFunction('convertToInteractive',\n",
       "                                                    [key], {});\n",
       "        if (!dataTable) return;\n",
       "\n",
       "        const docLinkHtml = 'Like what you see? Visit the ' +\n",
       "          '<a target=\"_blank\" href=https://colab.research.google.com/notebooks/data_table.ipynb>data table notebook</a>'\n",
       "          + ' to learn more about interactive tables.';\n",
       "        element.innerHTML = '';\n",
       "        dataTable['output_type'] = 'display_data';\n",
       "        await google.colab.output.renderOutput(dataTable, element);\n",
       "        const docLink = document.createElement('div');\n",
       "        docLink.innerHTML = docLinkHtml;\n",
       "        element.appendChild(docLink);\n",
       "      }\n",
       "    </script>\n",
       "  </div>\n",
       "\n",
       "\n",
       "    <div id=\"df-11db8a7c-a7b4-4c22-9a23-594ebd9bd58b\">\n",
       "      <button class=\"colab-df-quickchart\" onclick=\"quickchart('df-11db8a7c-a7b4-4c22-9a23-594ebd9bd58b')\"\n",
       "                title=\"Suggest charts\"\n",
       "                style=\"display:none;\">\n",
       "\n",
       "<svg xmlns=\"http://www.w3.org/2000/svg\" height=\"24px\"viewBox=\"0 0 24 24\"\n",
       "     width=\"24px\">\n",
       "    <g>\n",
       "        <path d=\"M19 3H5c-1.1 0-2 .9-2 2v14c0 1.1.9 2 2 2h14c1.1 0 2-.9 2-2V5c0-1.1-.9-2-2-2zM9 17H7v-7h2v7zm4 0h-2V7h2v10zm4 0h-2v-4h2v4z\"/>\n",
       "    </g>\n",
       "</svg>\n",
       "      </button>\n",
       "\n",
       "<style>\n",
       "  .colab-df-quickchart {\n",
       "      --bg-color: #E8F0FE;\n",
       "      --fill-color: #1967D2;\n",
       "      --hover-bg-color: #E2EBFA;\n",
       "      --hover-fill-color: #174EA6;\n",
       "      --disabled-fill-color: #AAA;\n",
       "      --disabled-bg-color: #DDD;\n",
       "  }\n",
       "\n",
       "  [theme=dark] .colab-df-quickchart {\n",
       "      --bg-color: #3B4455;\n",
       "      --fill-color: #D2E3FC;\n",
       "      --hover-bg-color: #434B5C;\n",
       "      --hover-fill-color: #FFFFFF;\n",
       "      --disabled-bg-color: #3B4455;\n",
       "      --disabled-fill-color: #666;\n",
       "  }\n",
       "\n",
       "  .colab-df-quickchart {\n",
       "    background-color: var(--bg-color);\n",
       "    border: none;\n",
       "    border-radius: 50%;\n",
       "    cursor: pointer;\n",
       "    display: none;\n",
       "    fill: var(--fill-color);\n",
       "    height: 32px;\n",
       "    padding: 0;\n",
       "    width: 32px;\n",
       "  }\n",
       "\n",
       "  .colab-df-quickchart:hover {\n",
       "    background-color: var(--hover-bg-color);\n",
       "    box-shadow: 0 1px 2px rgba(60, 64, 67, 0.3), 0 1px 3px 1px rgba(60, 64, 67, 0.15);\n",
       "    fill: var(--button-hover-fill-color);\n",
       "  }\n",
       "\n",
       "  .colab-df-quickchart-complete:disabled,\n",
       "  .colab-df-quickchart-complete:disabled:hover {\n",
       "    background-color: var(--disabled-bg-color);\n",
       "    fill: var(--disabled-fill-color);\n",
       "    box-shadow: none;\n",
       "  }\n",
       "\n",
       "  .colab-df-spinner {\n",
       "    border: 2px solid var(--fill-color);\n",
       "    border-color: transparent;\n",
       "    border-bottom-color: var(--fill-color);\n",
       "    animation:\n",
       "      spin 1s steps(1) infinite;\n",
       "  }\n",
       "\n",
       "  @keyframes spin {\n",
       "    0% {\n",
       "      border-color: transparent;\n",
       "      border-bottom-color: var(--fill-color);\n",
       "      border-left-color: var(--fill-color);\n",
       "    }\n",
       "    20% {\n",
       "      border-color: transparent;\n",
       "      border-left-color: var(--fill-color);\n",
       "      border-top-color: var(--fill-color);\n",
       "    }\n",
       "    30% {\n",
       "      border-color: transparent;\n",
       "      border-left-color: var(--fill-color);\n",
       "      border-top-color: var(--fill-color);\n",
       "      border-right-color: var(--fill-color);\n",
       "    }\n",
       "    40% {\n",
       "      border-color: transparent;\n",
       "      border-right-color: var(--fill-color);\n",
       "      border-top-color: var(--fill-color);\n",
       "    }\n",
       "    60% {\n",
       "      border-color: transparent;\n",
       "      border-right-color: var(--fill-color);\n",
       "    }\n",
       "    80% {\n",
       "      border-color: transparent;\n",
       "      border-right-color: var(--fill-color);\n",
       "      border-bottom-color: var(--fill-color);\n",
       "    }\n",
       "    90% {\n",
       "      border-color: transparent;\n",
       "      border-bottom-color: var(--fill-color);\n",
       "    }\n",
       "  }\n",
       "</style>\n",
       "\n",
       "      <script>\n",
       "        async function quickchart(key) {\n",
       "          const quickchartButtonEl =\n",
       "            document.querySelector('#' + key + ' button');\n",
       "          quickchartButtonEl.disabled = true;  // To prevent multiple clicks.\n",
       "          quickchartButtonEl.classList.add('colab-df-spinner');\n",
       "          try {\n",
       "            const charts = await google.colab.kernel.invokeFunction(\n",
       "                'suggestCharts', [key], {});\n",
       "          } catch (error) {\n",
       "            console.error('Error during call to suggestCharts:', error);\n",
       "          }\n",
       "          quickchartButtonEl.classList.remove('colab-df-spinner');\n",
       "          quickchartButtonEl.classList.add('colab-df-quickchart-complete');\n",
       "        }\n",
       "        (() => {\n",
       "          let quickchartButtonEl =\n",
       "            document.querySelector('#df-11db8a7c-a7b4-4c22-9a23-594ebd9bd58b button');\n",
       "          quickchartButtonEl.style.display =\n",
       "            google.colab.kernel.accessAllowed ? 'block' : 'none';\n",
       "        })();\n",
       "      </script>\n",
       "    </div>\n",
       "\n",
       "  <div id=\"id_d62d1e61-6246-436a-bf04-15b84a023816\">\n",
       "    <style>\n",
       "      .colab-df-generate {\n",
       "        background-color: #E8F0FE;\n",
       "        border: none;\n",
       "        border-radius: 50%;\n",
       "        cursor: pointer;\n",
       "        display: none;\n",
       "        fill: #1967D2;\n",
       "        height: 32px;\n",
       "        padding: 0 0 0 0;\n",
       "        width: 32px;\n",
       "      }\n",
       "\n",
       "      .colab-df-generate:hover {\n",
       "        background-color: #E2EBFA;\n",
       "        box-shadow: 0px 1px 2px rgba(60, 64, 67, 0.3), 0px 1px 3px 1px rgba(60, 64, 67, 0.15);\n",
       "        fill: #174EA6;\n",
       "      }\n",
       "\n",
       "      [theme=dark] .colab-df-generate {\n",
       "        background-color: #3B4455;\n",
       "        fill: #D2E3FC;\n",
       "      }\n",
       "\n",
       "      [theme=dark] .colab-df-generate:hover {\n",
       "        background-color: #434B5C;\n",
       "        box-shadow: 0px 1px 3px 1px rgba(0, 0, 0, 0.15);\n",
       "        filter: drop-shadow(0px 1px 2px rgba(0, 0, 0, 0.3));\n",
       "        fill: #FFFFFF;\n",
       "      }\n",
       "    </style>\n",
       "    <button class=\"colab-df-generate\" onclick=\"generateWithVariable('summary')\"\n",
       "            title=\"Generate code using this dataframe.\"\n",
       "            style=\"display:none;\">\n",
       "\n",
       "  <svg xmlns=\"http://www.w3.org/2000/svg\" height=\"24px\"viewBox=\"0 0 24 24\"\n",
       "       width=\"24px\">\n",
       "    <path d=\"M7,19H8.4L18.45,9,17,7.55,7,17.6ZM5,21V16.75L18.45,3.32a2,2,0,0,1,2.83,0l1.4,1.43a1.91,1.91,0,0,1,.58,1.4,1.91,1.91,0,0,1-.58,1.4L9.25,21ZM18.45,9,17,7.55Zm-12,3A5.31,5.31,0,0,0,4.9,8.1,5.31,5.31,0,0,0,1,6.5,5.31,5.31,0,0,0,4.9,4.9,5.31,5.31,0,0,0,6.5,1,5.31,5.31,0,0,0,8.1,4.9,5.31,5.31,0,0,0,12,6.5,5.46,5.46,0,0,0,6.5,12Z\"/>\n",
       "  </svg>\n",
       "    </button>\n",
       "    <script>\n",
       "      (() => {\n",
       "      const buttonEl =\n",
       "        document.querySelector('#id_d62d1e61-6246-436a-bf04-15b84a023816 button.colab-df-generate');\n",
       "      buttonEl.style.display =\n",
       "        google.colab.kernel.accessAllowed ? 'block' : 'none';\n",
       "\n",
       "      buttonEl.onclick = () => {\n",
       "        google.colab.notebook.generateWithVariable('summary');\n",
       "      }\n",
       "      })();\n",
       "    </script>\n",
       "  </div>\n",
       "\n",
       "    </div>\n",
       "  </div>\n"
      ],
      "text/plain": [
       "     Scenario Total Revenue Incentive Cost Net Revenue Retention Gain  \\\n",
       "0    Baseline    $28,121.85          $0.00  $28,121.85     0 learners   \n",
       "1  Scenario 1    $28,121.85        $564.06  $27,557.79     0 learners   \n",
       "2  Scenario 2    $31,355.70        $789.69  $30,566.02   104 learners   \n",
       "\n",
       "  Retention Gain (%) Break-Even Learners Needed  \n",
       "0               0.0%                          0  \n",
       "1               0.0%                         23  \n",
       "2              23.3%                         32  "
      ]
     },
     "execution_count": 66,
     "metadata": {},
     "output_type": "execute_result"
    }
   ],
   "source": [
    "summary = pd.DataFrame([\n",
    "    compute_financials(\"Baseline\", baseline_learners, 0, 0),\n",
    "    compute_financials(\"Scenario 1\", scenario1_learners, 0, 50),\n",
    "    compute_financials(\"Scenario 2\", scenario2_learners, 100, 70)\n",
    "])\n",
    "summary"
   ]
  },
  {
   "cell_type": "markdown",
   "metadata": {
    "id": "rmDk93E41Kxd"
   },
   "source": [
    "**Insight**\n",
    "\n",
    ">This table shows each scenario's bottom line revenue, cost, uplift, and whether the incentive pays off. If scenario 2 yields higher net revenue and hits break-even, we habe a **quantifiable business case** to support implementation.\n"
   ]
  },
  {
   "cell_type": "markdown",
   "metadata": {
    "id": "EvxHCgpI2VRi"
   },
   "source": [
    "## Section 6: Executive Summary Table & Recommendation"
   ]
  },
  {
   "cell_type": "markdown",
   "metadata": {
    "id": "Ck9pTDBc2lKr"
   },
   "source": [
    "In this session, we will display the financial summary and generate a recommendation based on the scenario with the highest net revenue\n",
    "\n",
    "This table will highlight each scenario's performance:\n",
    "- **Total Revenue** generated over the program.\n",
    "- **Incentive Cost** (if any)\n",
    "- **Net Revenue** after cost.\n",
    "- **Retention Gain** in learner count and percent.\n",
    "- **Break-even learners** needed to cover the cost.\n",
    "\n",
    "Finally, we will also automaticcally recommend the scenario with the **strongest business case.**"
   ]
  },
  {
   "cell_type": "markdown",
   "metadata": {
    "id": "Va3PMMxz4OAU"
   },
   "source": [
    "**Next**\n",
    "\n",
    "Let's create a table that displays Executive summary"
   ]
  },
  {
   "cell_type": "code",
   "execution_count": null,
   "metadata": {
    "colab": {
     "base_uri": "https://localhost:8080/",
     "height": 160
    },
    "executionInfo": {
     "elapsed": 60,
     "status": "ok",
     "timestamp": 1747746583225,
     "user": {
      "displayName": "oludare adekunle",
      "userId": "14811438004639429076"
     },
     "user_tz": -60
    },
    "id": "kJkyLhz1423z",
    "outputId": "3e2d4022-5fab-47ed-ca97-948236a8c2e8"
   },
   "outputs": [
    {
     "data": {
      "text/html": [
       "<style type=\"text/css\">\n",
       "</style>\n",
       "<table id=\"T_4ddce\" class=\"dataframe\">\n",
       "  <caption>💼 Executive Summary: Scenario Comparison</caption>\n",
       "  <thead>\n",
       "    <tr>\n",
       "      <th class=\"blank level0\" >&nbsp;</th>\n",
       "      <th id=\"T_4ddce_level0_col0\" class=\"col_heading level0 col0\" >Scenario</th>\n",
       "      <th id=\"T_4ddce_level0_col1\" class=\"col_heading level0 col1\" >Total Revenue</th>\n",
       "      <th id=\"T_4ddce_level0_col2\" class=\"col_heading level0 col2\" >Incentive Cost</th>\n",
       "      <th id=\"T_4ddce_level0_col3\" class=\"col_heading level0 col3\" >Net Revenue</th>\n",
       "      <th id=\"T_4ddce_level0_col4\" class=\"col_heading level0 col4\" >Retention Gain</th>\n",
       "      <th id=\"T_4ddce_level0_col5\" class=\"col_heading level0 col5\" >Retention Gain (%)</th>\n",
       "      <th id=\"T_4ddce_level0_col6\" class=\"col_heading level0 col6\" >Break-Even Learners Needed</th>\n",
       "    </tr>\n",
       "  </thead>\n",
       "  <tbody>\n",
       "    <tr>\n",
       "      <th id=\"T_4ddce_level0_row0\" class=\"row_heading level0 row0\" >0</th>\n",
       "      <td id=\"T_4ddce_row0_col0\" class=\"data row0 col0\" >Baseline</td>\n",
       "      <td id=\"T_4ddce_row0_col1\" class=\"data row0 col1\" >$28,121.85</td>\n",
       "      <td id=\"T_4ddce_row0_col2\" class=\"data row0 col2\" >$0.00</td>\n",
       "      <td id=\"T_4ddce_row0_col3\" class=\"data row0 col3\" >$28,121.85</td>\n",
       "      <td id=\"T_4ddce_row0_col4\" class=\"data row0 col4\" >0 learners</td>\n",
       "      <td id=\"T_4ddce_row0_col5\" class=\"data row0 col5\" >0.0%</td>\n",
       "      <td id=\"T_4ddce_row0_col6\" class=\"data row0 col6\" >0</td>\n",
       "    </tr>\n",
       "    <tr>\n",
       "      <th id=\"T_4ddce_level0_row1\" class=\"row_heading level0 row1\" >1</th>\n",
       "      <td id=\"T_4ddce_row1_col0\" class=\"data row1 col0\" >Scenario 1</td>\n",
       "      <td id=\"T_4ddce_row1_col1\" class=\"data row1 col1\" >$28,121.85</td>\n",
       "      <td id=\"T_4ddce_row1_col2\" class=\"data row1 col2\" >$564.06</td>\n",
       "      <td id=\"T_4ddce_row1_col3\" class=\"data row1 col3\" >$27,557.79</td>\n",
       "      <td id=\"T_4ddce_row1_col4\" class=\"data row1 col4\" >0 learners</td>\n",
       "      <td id=\"T_4ddce_row1_col5\" class=\"data row1 col5\" >0.0%</td>\n",
       "      <td id=\"T_4ddce_row1_col6\" class=\"data row1 col6\" >23</td>\n",
       "    </tr>\n",
       "    <tr>\n",
       "      <th id=\"T_4ddce_level0_row2\" class=\"row_heading level0 row2\" >2</th>\n",
       "      <td id=\"T_4ddce_row2_col0\" class=\"data row2 col0\" >Scenario 2</td>\n",
       "      <td id=\"T_4ddce_row2_col1\" class=\"data row2 col1\" >$31,355.70</td>\n",
       "      <td id=\"T_4ddce_row2_col2\" class=\"data row2 col2\" >$789.69</td>\n",
       "      <td id=\"T_4ddce_row2_col3\" class=\"data row2 col3\" >$30,566.02</td>\n",
       "      <td id=\"T_4ddce_row2_col4\" class=\"data row2 col4\" >104 learners</td>\n",
       "      <td id=\"T_4ddce_row2_col5\" class=\"data row2 col5\" >23.3%</td>\n",
       "      <td id=\"T_4ddce_row2_col6\" class=\"data row2 col6\" >32</td>\n",
       "    </tr>\n",
       "  </tbody>\n",
       "</table>\n"
      ],
      "text/plain": [
       "<pandas.io.formats.style.Styler at 0x79ae77831bd0>"
      ]
     },
     "metadata": {},
     "output_type": "display_data"
    }
   ],
   "source": [
    "# Reuse financial results from Section 5\n",
    "summary_df = pd.DataFrame([\n",
    "    compute_financials(\"Baseline\", baseline_learners, 0, 0),\n",
    "    compute_financials(\"Scenario 1\", scenario1_learners, 0, 50),   # Fixed: cost still applies\n",
    "    compute_financials(\"Scenario 2\", scenario2_learners, 100, 70)\n",
    "])\n",
    "\n",
    "# Display updated summary\n",
    "display(summary_df.style.set_caption(\"💼 Executive Summary: Scenario Comparison\").format(na_rep=\"-\"))\n"
   ]
  },
  {
   "cell_type": "code",
   "execution_count": null,
   "metadata": {
    "colab": {
     "base_uri": "https://localhost:8080/"
    },
    "executionInfo": {
     "elapsed": 14,
     "status": "ok",
     "timestamp": 1747746587900,
     "user": {
      "displayName": "oludare adekunle",
      "userId": "14811438004639429076"
     },
     "user_tz": -60
    },
    "id": "9njwk4rp7zSV",
    "outputId": "de7f7533-4c4b-4afb-8dc1-cb04e1460607"
   },
   "outputs": [
    {
     "name": "stdout",
     "output_type": "stream",
     "text": [
      "Best Scenario: Scenario 2 with Net Revenue of $30,566.02\n",
      "Worst Scenario: Scenario 1 with Net Revenue of $27,557.79\n"
     ]
    }
   ],
   "source": [
    "# Convert for sorting\n",
    "summary_numeric = summary_df.copy()\n",
    "summary_numeric[\"Net Revenue ($)\"] = summary_numeric[\"Net Revenue\"].replace('[\\$,]', '', regex=True).astype(float)\n",
    "summary_numeric = summary_numeric.sort_values(\"Net Revenue ($)\", ascending=False)\n",
    "\n",
    "# Identify best and worst scenarios\n",
    "best = summary_numeric.iloc[0]\n",
    "worst = summary_numeric.iloc[-1]\n",
    "\n",
    "print(f\"Best Scenario: {best['Scenario']} with Net Revenue of {best['Net Revenue']}\")\n",
    "print(f\"Worst Scenario: {worst['Scenario']} with Net Revenue of {worst['Net Revenue']}\")\n"
   ]
  },
  {
   "cell_type": "markdown",
   "metadata": {
    "id": "1FIX1pxl80HZ"
   },
   "source": [
    "**Generated Recommendation**\n",
    "\n",
    "Adopt **Scenario 2** - it delivers the highest net revenue of **$30,566.02**, with a retention uplift of **23.3%**.\n",
    "\n",
    "This requires retaining at least **32** additional leaders to break even.\n",
    "\n",
    "Compare to **Scenario 1**, which yields only **$27,557.79**, the recommended option offers a more cost-effective and impactful outcome."
   ]
  },
  {
   "cell_type": "markdown",
   "metadata": {
    "id": "V-tyJb8zCS17"
   },
   "source": [
    "**Interpretation**\n",
    "\n",
    ">This table and summary helps an immediate understanding of:\n",
    "- \"Which strategy makes the most money.\n",
    "- Whether the incentive investment pays off.\n",
    "- How much retention gain is actually achieved.\n",
    "\n",
    "> It also makes the recommendation data-driven, ideal for decision making presentations."
   ]
  },
  {
   "cell_type": "markdown",
   "metadata": {
    "id": "q9ZqOGZTDJeR"
   },
   "source": [
    "## Section 7: Monthly Revenue and Incentive Liability Analysis"
   ]
  },
  {
   "cell_type": "markdown",
   "metadata": {
    "id": "Abbgi4_2DSrc"
   },
   "source": [
    "In this session, we will calculate and visualise how monthly revenue and incentive cost evolve over time for each scenario. This helps us answer:\n",
    "- When is revenue highest?\n",
    "- When does cost hit the business?\n",
    "- How do costs and return shift over time?\n",
    "\n",
    "<br>\n",
    "\n",
    "This is particularly important because:\n",
    "- incentive costs occur **only in the month after the incentive is offered** (Month 4).\n",
    "- Revenue accumulates gradually across months.\n",
    "- Comparing costs vs. returns per month gives us a **cash flow view**\n",
    "\n",
    "<br>\n",
    "\n",
    "**Note Worthy**\n",
    "\n",
    "Stakeholders can now observe not just total, but **timing and structure** of financial impact - useful for planning budgets and incentive timing.\n",
    "\n",
    "<br>\n",
    "\n",
    "**Next**\n",
    "\n",
    "let's plot monthly revenue and incentive liability for all scenarios on one grouped bar chart."
   ]
  },
  {
   "cell_type": "code",
   "execution_count": null,
   "metadata": {
    "colab": {
     "base_uri": "https://localhost:8080/",
     "height": 517
    },
    "executionInfo": {
     "elapsed": 120,
     "status": "ok",
     "timestamp": 1747746464392,
     "user": {
      "displayName": "oludare adekunle",
      "userId": "14811438004639429076"
     },
     "user_tz": -60
    },
    "id": "qfm30C4rKFMw",
    "outputId": "01476f1e-c274-447e-e3af-3d373c175bde"
   },
   "outputs": [
    {
     "data": {
      "text/html": [
       "<html>\n",
       "<head><meta charset=\"utf-8\" /></head>\n",
       "<body>\n",
       "    <div>            <script src=\"https://cdnjs.cloudflare.com/ajax/libs/mathjax/2.7.5/MathJax.js?config=TeX-AMS-MML_SVG\"></script><script type=\"text/javascript\">if (window.MathJax && window.MathJax.Hub && window.MathJax.Hub.Config) {window.MathJax.Hub.Config({SVG: {font: \"STIX-Web\"}});}</script>                <script type=\"text/javascript\">window.PlotlyConfig = {MathJaxConfig: 'local'};</script>\n",
       "        <script charset=\"utf-8\" src=\"https://cdn.plot.ly/plotly-2.35.2.min.js\"></script>                <div id=\"62709752-a18e-405d-8d8b-66a280f4dced\" class=\"plotly-graph-div\" style=\"height:500px; width:100%;\"></div>            <script type=\"text/javascript\">                                    window.PLOTLYENV=window.PLOTLYENV || {};                                    if (document.getElementById(\"62709752-a18e-405d-8d8b-66a280f4dced\")) {                    Plotly.newPlot(                        \"62709752-a18e-405d-8d8b-66a280f4dced\",                        [{\"marker\":{\"color\":\"#6baed6\"},\"name\":\"Baseline Revenue\",\"x\":[1,2,3,4,5,6,7,8],\"y\":[5000.0,4750.0,4512.5,3384.375,3045.9375,2741.3437500000005,2467.2093750000004,2220.4884375000006],\"type\":\"bar\"},{\"marker\":{\"color\":\"#fc9272\"},\"name\":\"Scenario 1 Revenue\",\"x\":[1,2,3,4,5,6,7,8],\"y\":[5000.0,4750.0,4512.5,3384.375,3045.9375,2741.3437500000005,2467.2093750000004,2220.4884375000006],\"type\":\"bar\"},{\"marker\":{\"color\":\"#74c476\"},\"name\":\"Scenario 2 Revenue\",\"x\":[1,2,3,4,5,6,7,8],\"y\":[5000.0,4750.0,4512.5,4174.0625,3756.6562500000005,3380.9906250000004,3042.891562500001,2738.602406250001],\"type\":\"bar\"},{\"marker\":{\"color\":\"#fcbba1\"},\"name\":\"Scenario 1 Incentive Cost\",\"x\":[1,2,3,4,5,6,7,8],\"y\":[0,0,0,564.0625,0,0,0,0],\"type\":\"bar\"},{\"marker\":{\"color\":\"#a1d99b\"},\"name\":\"Scenario 2 Incentive Cost\",\"x\":[1,2,3,4,5,6,7,8],\"y\":[0,0,0,789.6875,0,0,0,0],\"type\":\"bar\"}],                        {\"template\":{\"data\":{\"barpolar\":[{\"marker\":{\"line\":{\"color\":\"white\",\"width\":0.5},\"pattern\":{\"fillmode\":\"overlay\",\"size\":10,\"solidity\":0.2}},\"type\":\"barpolar\"}],\"bar\":[{\"error_x\":{\"color\":\"#2a3f5f\"},\"error_y\":{\"color\":\"#2a3f5f\"},\"marker\":{\"line\":{\"color\":\"white\",\"width\":0.5},\"pattern\":{\"fillmode\":\"overlay\",\"size\":10,\"solidity\":0.2}},\"type\":\"bar\"}],\"carpet\":[{\"aaxis\":{\"endlinecolor\":\"#2a3f5f\",\"gridcolor\":\"#C8D4E3\",\"linecolor\":\"#C8D4E3\",\"minorgridcolor\":\"#C8D4E3\",\"startlinecolor\":\"#2a3f5f\"},\"baxis\":{\"endlinecolor\":\"#2a3f5f\",\"gridcolor\":\"#C8D4E3\",\"linecolor\":\"#C8D4E3\",\"minorgridcolor\":\"#C8D4E3\",\"startlinecolor\":\"#2a3f5f\"},\"type\":\"carpet\"}],\"choropleth\":[{\"colorbar\":{\"outlinewidth\":0,\"ticks\":\"\"},\"type\":\"choropleth\"}],\"contourcarpet\":[{\"colorbar\":{\"outlinewidth\":0,\"ticks\":\"\"},\"type\":\"contourcarpet\"}],\"contour\":[{\"colorbar\":{\"outlinewidth\":0,\"ticks\":\"\"},\"colorscale\":[[0.0,\"#0d0887\"],[0.1111111111111111,\"#46039f\"],[0.2222222222222222,\"#7201a8\"],[0.3333333333333333,\"#9c179e\"],[0.4444444444444444,\"#bd3786\"],[0.5555555555555556,\"#d8576b\"],[0.6666666666666666,\"#ed7953\"],[0.7777777777777778,\"#fb9f3a\"],[0.8888888888888888,\"#fdca26\"],[1.0,\"#f0f921\"]],\"type\":\"contour\"}],\"heatmapgl\":[{\"colorbar\":{\"outlinewidth\":0,\"ticks\":\"\"},\"colorscale\":[[0.0,\"#0d0887\"],[0.1111111111111111,\"#46039f\"],[0.2222222222222222,\"#7201a8\"],[0.3333333333333333,\"#9c179e\"],[0.4444444444444444,\"#bd3786\"],[0.5555555555555556,\"#d8576b\"],[0.6666666666666666,\"#ed7953\"],[0.7777777777777778,\"#fb9f3a\"],[0.8888888888888888,\"#fdca26\"],[1.0,\"#f0f921\"]],\"type\":\"heatmapgl\"}],\"heatmap\":[{\"colorbar\":{\"outlinewidth\":0,\"ticks\":\"\"},\"colorscale\":[[0.0,\"#0d0887\"],[0.1111111111111111,\"#46039f\"],[0.2222222222222222,\"#7201a8\"],[0.3333333333333333,\"#9c179e\"],[0.4444444444444444,\"#bd3786\"],[0.5555555555555556,\"#d8576b\"],[0.6666666666666666,\"#ed7953\"],[0.7777777777777778,\"#fb9f3a\"],[0.8888888888888888,\"#fdca26\"],[1.0,\"#f0f921\"]],\"type\":\"heatmap\"}],\"histogram2dcontour\":[{\"colorbar\":{\"outlinewidth\":0,\"ticks\":\"\"},\"colorscale\":[[0.0,\"#0d0887\"],[0.1111111111111111,\"#46039f\"],[0.2222222222222222,\"#7201a8\"],[0.3333333333333333,\"#9c179e\"],[0.4444444444444444,\"#bd3786\"],[0.5555555555555556,\"#d8576b\"],[0.6666666666666666,\"#ed7953\"],[0.7777777777777778,\"#fb9f3a\"],[0.8888888888888888,\"#fdca26\"],[1.0,\"#f0f921\"]],\"type\":\"histogram2dcontour\"}],\"histogram2d\":[{\"colorbar\":{\"outlinewidth\":0,\"ticks\":\"\"},\"colorscale\":[[0.0,\"#0d0887\"],[0.1111111111111111,\"#46039f\"],[0.2222222222222222,\"#7201a8\"],[0.3333333333333333,\"#9c179e\"],[0.4444444444444444,\"#bd3786\"],[0.5555555555555556,\"#d8576b\"],[0.6666666666666666,\"#ed7953\"],[0.7777777777777778,\"#fb9f3a\"],[0.8888888888888888,\"#fdca26\"],[1.0,\"#f0f921\"]],\"type\":\"histogram2d\"}],\"histogram\":[{\"marker\":{\"pattern\":{\"fillmode\":\"overlay\",\"size\":10,\"solidity\":0.2}},\"type\":\"histogram\"}],\"mesh3d\":[{\"colorbar\":{\"outlinewidth\":0,\"ticks\":\"\"},\"type\":\"mesh3d\"}],\"parcoords\":[{\"line\":{\"colorbar\":{\"outlinewidth\":0,\"ticks\":\"\"}},\"type\":\"parcoords\"}],\"pie\":[{\"automargin\":true,\"type\":\"pie\"}],\"scatter3d\":[{\"line\":{\"colorbar\":{\"outlinewidth\":0,\"ticks\":\"\"}},\"marker\":{\"colorbar\":{\"outlinewidth\":0,\"ticks\":\"\"}},\"type\":\"scatter3d\"}],\"scattercarpet\":[{\"marker\":{\"colorbar\":{\"outlinewidth\":0,\"ticks\":\"\"}},\"type\":\"scattercarpet\"}],\"scattergeo\":[{\"marker\":{\"colorbar\":{\"outlinewidth\":0,\"ticks\":\"\"}},\"type\":\"scattergeo\"}],\"scattergl\":[{\"marker\":{\"colorbar\":{\"outlinewidth\":0,\"ticks\":\"\"}},\"type\":\"scattergl\"}],\"scattermapbox\":[{\"marker\":{\"colorbar\":{\"outlinewidth\":0,\"ticks\":\"\"}},\"type\":\"scattermapbox\"}],\"scatterpolargl\":[{\"marker\":{\"colorbar\":{\"outlinewidth\":0,\"ticks\":\"\"}},\"type\":\"scatterpolargl\"}],\"scatterpolar\":[{\"marker\":{\"colorbar\":{\"outlinewidth\":0,\"ticks\":\"\"}},\"type\":\"scatterpolar\"}],\"scatter\":[{\"fillpattern\":{\"fillmode\":\"overlay\",\"size\":10,\"solidity\":0.2},\"type\":\"scatter\"}],\"scatterternary\":[{\"marker\":{\"colorbar\":{\"outlinewidth\":0,\"ticks\":\"\"}},\"type\":\"scatterternary\"}],\"surface\":[{\"colorbar\":{\"outlinewidth\":0,\"ticks\":\"\"},\"colorscale\":[[0.0,\"#0d0887\"],[0.1111111111111111,\"#46039f\"],[0.2222222222222222,\"#7201a8\"],[0.3333333333333333,\"#9c179e\"],[0.4444444444444444,\"#bd3786\"],[0.5555555555555556,\"#d8576b\"],[0.6666666666666666,\"#ed7953\"],[0.7777777777777778,\"#fb9f3a\"],[0.8888888888888888,\"#fdca26\"],[1.0,\"#f0f921\"]],\"type\":\"surface\"}],\"table\":[{\"cells\":{\"fill\":{\"color\":\"#EBF0F8\"},\"line\":{\"color\":\"white\"}},\"header\":{\"fill\":{\"color\":\"#C8D4E3\"},\"line\":{\"color\":\"white\"}},\"type\":\"table\"}]},\"layout\":{\"annotationdefaults\":{\"arrowcolor\":\"#2a3f5f\",\"arrowhead\":0,\"arrowwidth\":1},\"autotypenumbers\":\"strict\",\"coloraxis\":{\"colorbar\":{\"outlinewidth\":0,\"ticks\":\"\"}},\"colorscale\":{\"diverging\":[[0,\"#8e0152\"],[0.1,\"#c51b7d\"],[0.2,\"#de77ae\"],[0.3,\"#f1b6da\"],[0.4,\"#fde0ef\"],[0.5,\"#f7f7f7\"],[0.6,\"#e6f5d0\"],[0.7,\"#b8e186\"],[0.8,\"#7fbc41\"],[0.9,\"#4d9221\"],[1,\"#276419\"]],\"sequential\":[[0.0,\"#0d0887\"],[0.1111111111111111,\"#46039f\"],[0.2222222222222222,\"#7201a8\"],[0.3333333333333333,\"#9c179e\"],[0.4444444444444444,\"#bd3786\"],[0.5555555555555556,\"#d8576b\"],[0.6666666666666666,\"#ed7953\"],[0.7777777777777778,\"#fb9f3a\"],[0.8888888888888888,\"#fdca26\"],[1.0,\"#f0f921\"]],\"sequentialminus\":[[0.0,\"#0d0887\"],[0.1111111111111111,\"#46039f\"],[0.2222222222222222,\"#7201a8\"],[0.3333333333333333,\"#9c179e\"],[0.4444444444444444,\"#bd3786\"],[0.5555555555555556,\"#d8576b\"],[0.6666666666666666,\"#ed7953\"],[0.7777777777777778,\"#fb9f3a\"],[0.8888888888888888,\"#fdca26\"],[1.0,\"#f0f921\"]]},\"colorway\":[\"#636efa\",\"#EF553B\",\"#00cc96\",\"#ab63fa\",\"#FFA15A\",\"#19d3f3\",\"#FF6692\",\"#B6E880\",\"#FF97FF\",\"#FECB52\"],\"font\":{\"color\":\"#2a3f5f\"},\"geo\":{\"bgcolor\":\"white\",\"lakecolor\":\"white\",\"landcolor\":\"white\",\"showlakes\":true,\"showland\":true,\"subunitcolor\":\"#C8D4E3\"},\"hoverlabel\":{\"align\":\"left\"},\"hovermode\":\"closest\",\"mapbox\":{\"style\":\"light\"},\"paper_bgcolor\":\"white\",\"plot_bgcolor\":\"white\",\"polar\":{\"angularaxis\":{\"gridcolor\":\"#EBF0F8\",\"linecolor\":\"#EBF0F8\",\"ticks\":\"\"},\"bgcolor\":\"white\",\"radialaxis\":{\"gridcolor\":\"#EBF0F8\",\"linecolor\":\"#EBF0F8\",\"ticks\":\"\"}},\"scene\":{\"xaxis\":{\"backgroundcolor\":\"white\",\"gridcolor\":\"#DFE8F3\",\"gridwidth\":2,\"linecolor\":\"#EBF0F8\",\"showbackground\":true,\"ticks\":\"\",\"zerolinecolor\":\"#EBF0F8\"},\"yaxis\":{\"backgroundcolor\":\"white\",\"gridcolor\":\"#DFE8F3\",\"gridwidth\":2,\"linecolor\":\"#EBF0F8\",\"showbackground\":true,\"ticks\":\"\",\"zerolinecolor\":\"#EBF0F8\"},\"zaxis\":{\"backgroundcolor\":\"white\",\"gridcolor\":\"#DFE8F3\",\"gridwidth\":2,\"linecolor\":\"#EBF0F8\",\"showbackground\":true,\"ticks\":\"\",\"zerolinecolor\":\"#EBF0F8\"}},\"shapedefaults\":{\"line\":{\"color\":\"#2a3f5f\"}},\"ternary\":{\"aaxis\":{\"gridcolor\":\"#DFE8F3\",\"linecolor\":\"#A2B1C6\",\"ticks\":\"\"},\"baxis\":{\"gridcolor\":\"#DFE8F3\",\"linecolor\":\"#A2B1C6\",\"ticks\":\"\"},\"bgcolor\":\"white\",\"caxis\":{\"gridcolor\":\"#DFE8F3\",\"linecolor\":\"#A2B1C6\",\"ticks\":\"\"}},\"title\":{\"x\":0.05},\"xaxis\":{\"automargin\":true,\"gridcolor\":\"#EBF0F8\",\"linecolor\":\"#EBF0F8\",\"ticks\":\"\",\"title\":{\"standoff\":15},\"zerolinecolor\":\"#EBF0F8\",\"zerolinewidth\":2},\"yaxis\":{\"automargin\":true,\"gridcolor\":\"#EBF0F8\",\"linecolor\":\"#EBF0F8\",\"ticks\":\"\",\"title\":{\"standoff\":15},\"zerolinecolor\":\"#EBF0F8\",\"zerolinewidth\":2}}},\"legend\":{\"orientation\":\"h\",\"yanchor\":\"bottom\",\"y\":-0.3,\"xanchor\":\"center\",\"x\":0.5},\"title\":{\"text\":\"💵 Monthly Revenue and Incentive Liability (Corrected)\"},\"xaxis\":{\"title\":{\"text\":\"Month\"}},\"yaxis\":{\"title\":{\"text\":\"USD ($)\"}},\"barmode\":\"group\",\"height\":500},                        {\"responsive\": true}                    ).then(function(){\n",
       "                            \n",
       "var gd = document.getElementById('62709752-a18e-405d-8d8b-66a280f4dced');\n",
       "var x = new MutationObserver(function (mutations, observer) {{\n",
       "        var display = window.getComputedStyle(gd).display;\n",
       "        if (!display || display === 'none') {{\n",
       "            console.log([gd, 'removed!']);\n",
       "            Plotly.purge(gd);\n",
       "            observer.disconnect();\n",
       "        }}\n",
       "}});\n",
       "\n",
       "// Listen for the removal of the full notebook cells\n",
       "var notebookContainer = gd.closest('#notebook-container');\n",
       "if (notebookContainer) {{\n",
       "    x.observe(notebookContainer, {childList: true});\n",
       "}}\n",
       "\n",
       "// Listen for the clearing of the current output cell\n",
       "var outputEl = gd.closest('.output');\n",
       "if (outputEl) {{\n",
       "    x.observe(outputEl, {childList: true});\n",
       "}}\n",
       "\n",
       "                        })                };                            </script>        </div>\n",
       "</body>\n",
       "</html>"
      ]
     },
     "metadata": {},
     "output_type": "display_data"
    }
   ],
   "source": [
    "\n",
    "\n",
    "# Utility to calculate monthly revenue and incentive cost\n",
    "def calculate_monthly_revenue_and_cost(learners, redeem_rate, effectiveness):\n",
    "    \"\"\"\n",
    "    Calculates monthly revenue and incentive cost.\n",
    "\n",
    "    - Revenue is learner count × revenue per learner\n",
    "    - Cost is incurred in the month *after* the incentive if any learners redeemed the reward\n",
    "    \"\"\"\n",
    "    monthly_revenue = [x * revenue_per_month for x in learners]\n",
    "    monthly_cost = [0] * duration_months\n",
    "\n",
    "    if redeem_rate > 0:\n",
    "        drop_idx = incentive_month - 1\n",
    "        eligible = learners[drop_idx] * monthly_drop_rates[drop_idx]\n",
    "        redeemers = eligible * (redeem_rate / 100)\n",
    "        cost = redeemers * incentive_cost\n",
    "        monthly_cost[incentive_month] = cost  # cost hits one month after incentive is offered\n",
    "\n",
    "    return monthly_revenue, monthly_cost\n",
    "\n",
    "\n",
    "# Compute monthly revenue & cost for all scenarios\n",
    "rev_base, cost_base = calculate_monthly_revenue_and_cost(baseline_learners, 0, 0)\n",
    "rev_s1, cost_s1 = calculate_monthly_revenue_and_cost(scenario1_learners, 50, 0)    # incentive redeemed, no effect\n",
    "rev_s2, cost_s2 = calculate_monthly_revenue_and_cost(scenario2_learners, 70, 100)  # incentive redeemed, effective\n",
    "\n",
    "# Plotting\n",
    "months = list(range(1, duration_months + 1))\n",
    "\n",
    "fig = go.Figure()\n",
    "\n",
    "# Revenue Bars\n",
    "fig.add_bar(x=months, y=rev_base, name='Baseline Revenue', marker_color=\"#6baed6\")\n",
    "fig.add_bar(x=months, y=rev_s1, name='Scenario 1 Revenue', marker_color=\"#fc9272\")\n",
    "fig.add_bar(x=months, y=rev_s2, name='Scenario 2 Revenue', marker_color=\"#74c476\")\n",
    "\n",
    "# Incentive Costs (Liabilities)\n",
    "fig.add_bar(x=months, y=cost_s1, name='Scenario 1 Incentive Cost', marker_color=\"#fcbba1\")\n",
    "fig.add_bar(x=months, y=cost_s2, name='Scenario 2 Incentive Cost', marker_color=\"#a1d99b\")\n",
    "\n",
    "fig.update_layout(\n",
    "    title=\"💵 Monthly Revenue and Incentive Liability \",\n",
    "    xaxis_title=\"Month\",\n",
    "    yaxis_title=\"USD ($)\",\n",
    "    barmode='group',\n",
    "    height=500,\n",
    "    template='plotly_white',\n",
    "    legend=dict(orientation='h', yanchor='bottom', y=-0.3, xanchor='center', x=0.5)\n",
    ")\n",
    "\n",
    "fig.show()\n"
   ]
  },
  {
   "cell_type": "markdown",
   "metadata": {
    "id": "_MK7Wq4zKnSE"
   },
   "source": [
    "**Insight**\n",
    "\n",
    ">This grouped bar chart reveals:\n",
    "- When the incentive cost hits the business (Month 4 for Scenario 2).\n",
    "- How revenue grows over time across all scenarios\n",
    "- That Scenario 2 shows higher monthly revenue starting from Month 4 due to better retention."
   ]
  },
  {
   "cell_type": "markdown",
   "metadata": {
    "id": "7BQc6Y2LLR7u"
   },
   "source": [
    "## Section 8: Conclusion & Final Recommendation"
   ]
  },
  {
   "cell_type": "markdown",
   "metadata": {
    "id": "5YkMBovRLvox"
   },
   "source": [
    "In this session,we will synthesize all findings from retention trends to financial performance into a clear narrative that decision makers can act on."
   ]
  },
  {
   "cell_type": "markdown",
   "metadata": {
    "id": "FmTXxJH_MCKL"
   },
   "source": [
    "**Review**\n",
    "\n",
    "We modeled and analyzed three retention scenarios:\n",
    "\n",
    "| **Scenario** | **Description** |\n",
    "| --- | --- |\n",
    "| **Baseline** | No incentive offered. Regular drop-off occurs. |\n",
    "| **Scenario 1** | Incentive offeed, but no effect on retention. |\n",
    "| **Scenario 2** | Incentive offeed, redeemers are retained fully. |\n",
    "\n",
    "Key metrics like total revenue, cost, and retention uplift were quantified and visualised across each."
   ]
  },
  {
   "cell_type": "markdown",
   "metadata": {
    "id": "78NZEAi_OXSg"
   },
   "source": [
    "**Observation**\n",
    "\n",
    "- **Scenario 2** consistently outperformed others:\n",
    "    - Retained the highest number of learners after Month 3\n",
    "    - Delivered the **highest net revenue**, even after accounting for incentive cost.\n",
    "    - Showed a clear **ROI path**, supported by our break-even analysis.\n",
    "\n",
    "- **Scenario 2**, despite incurring incentive cost, produced **no improvement in retention** or financial outcome.\n",
    "\n",
    "- **Baseline** had no cost - but also no gains."
   ]
  },
  {
   "cell_type": "markdown",
   "metadata": {
    "id": "zNmpzD8EQkK7"
   },
   "source": [
    "### Final Recommendation"
   ]
  },
  {
   "cell_type": "markdown",
   "metadata": {
    "id": "quJnPEUMQrge"
   },
   "source": [
    "**Recommendation: Proceed with Scenario 2 - Effective Incentive Deployment**\n",
    "\n",
    "- It retains significantly more learners by neutralising the spike in Month 3 drop-off.\n",
    "- It yields the highest net revenue across the program duration.\n",
    "- Based on redemption and retention rates, the business can **break even** with a realistic number of retained learners.\n",
    "\n",
    "**Note** Avoid rolling out incentives **without ensuring retention impact** as shown in Scenario 1, this results in pure cost with no return."
   ]
  }
 ],
 "metadata": {
  "colab": {
   "authorship_tag": "ABX9TyNiSnp11oKvkTFXHFOlDWVe",
   "provenance": []
  },
  "kernelspec": {
   "display_name": "stlit_env",
   "language": "python",
   "name": "python3"
  },
  "language_info": {
   "codemirror_mode": {
    "name": "ipython",
    "version": 3
   },
   "file_extension": ".py",
   "mimetype": "text/x-python",
   "name": "python",
   "nbconvert_exporter": "python",
   "pygments_lexer": "ipython3",
   "version": "3.12.9"
  }
 },
 "nbformat": 4,
 "nbformat_minor": 0
}
